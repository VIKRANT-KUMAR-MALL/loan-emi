{
  "nbformat": 4,
  "nbformat_minor": 0,
  "metadata": {
    "colab": {
      "name": "AutoML.ipynb",
      "provenance": [],
      "collapsed_sections": [],
      "mount_file_id": "1ZryGlxlxeXxhXVecfHLCNjzUyyZc6swK",
      "authorship_tag": "ABX9TyONbafwJGFptXFLY2vCN8+i",
      "include_colab_link": true
    },
    "kernelspec": {
      "name": "python3",
      "display_name": "Python 3"
    }
  },
  "cells": [
    {
      "cell_type": "markdown",
      "metadata": {
        "id": "view-in-github",
        "colab_type": "text"
      },
      "source": [
        "<a href=\"https://colab.research.google.com/github/VIKRANT-KUMAR-MALL/loan-emi/blob/main/AutoML.ipynb\" target=\"_parent\"><img src=\"https://colab.research.google.com/assets/colab-badge.svg\" alt=\"Open In Colab\"/></a>"
      ]
    },
    {
      "cell_type": "code",
      "metadata": {
        "colab": {
          "base_uri": "https://localhost:8080/"
        },
        "id": "rNet0H8sOk4Q",
        "outputId": "86b4f7b7-d67d-4e4d-de01-dd9b12fc3b99"
      },
      "source": [
        "%pip install h2o"
      ],
      "execution_count": null,
      "outputs": [
        {
          "output_type": "stream",
          "text": [
            "Collecting h2o\n",
            "\u001b[?25l  Downloading https://files.pythonhosted.org/packages/26/c5/d63a8bfdbeb4ebfb709c010af3e061d89a363204c437cb5527431f6de3d2/h2o-3.32.0.2.tar.gz (164.6MB)\n",
            "\u001b[K     |████████████████████████████████| 164.6MB 97kB/s \n",
            "\u001b[?25hRequirement already satisfied: requests in /usr/local/lib/python3.6/dist-packages (from h2o) (2.23.0)\n",
            "Requirement already satisfied: tabulate in /usr/local/lib/python3.6/dist-packages (from h2o) (0.8.7)\n",
            "Requirement already satisfied: future in /usr/local/lib/python3.6/dist-packages (from h2o) (0.16.0)\n",
            "Collecting colorama>=0.3.8\n",
            "  Downloading https://files.pythonhosted.org/packages/44/98/5b86278fbbf250d239ae0ecb724f8572af1c91f4a11edf4d36a206189440/colorama-0.4.4-py2.py3-none-any.whl\n",
            "Requirement already satisfied: urllib3!=1.25.0,!=1.25.1,<1.26,>=1.21.1 in /usr/local/lib/python3.6/dist-packages (from requests->h2o) (1.24.3)\n",
            "Requirement already satisfied: idna<3,>=2.5 in /usr/local/lib/python3.6/dist-packages (from requests->h2o) (2.10)\n",
            "Requirement already satisfied: chardet<4,>=3.0.2 in /usr/local/lib/python3.6/dist-packages (from requests->h2o) (3.0.4)\n",
            "Requirement already satisfied: certifi>=2017.4.17 in /usr/local/lib/python3.6/dist-packages (from requests->h2o) (2020.12.5)\n",
            "Building wheels for collected packages: h2o\n",
            "  Building wheel for h2o (setup.py) ... \u001b[?25l\u001b[?25hdone\n",
            "  Created wheel for h2o: filename=h2o-3.32.0.2-py2.py3-none-any.whl size=164620456 sha256=69e1c7813198586904adfef0c41001e7182e3e13527cc17f1bc006316fd48383\n",
            "  Stored in directory: /root/.cache/pip/wheels/42/bd/ea/218fd15724eddf6fa7fc8fab802b6fa592e623d87199679721\n",
            "Successfully built h2o\n",
            "Installing collected packages: colorama, h2o\n",
            "Successfully installed colorama-0.4.4 h2o-3.32.0.2\n"
          ],
          "name": "stdout"
        }
      ]
    },
    {
      "cell_type": "code",
      "metadata": {
        "id": "_vR1Lln1M5lB"
      },
      "source": [
        "import pandas as pd\r\n",
        "pd.options.display.max_rows=999\r\n",
        "import numpy as np\r\n",
        "import matplotlib.pyplot as plt"
      ],
      "execution_count": null,
      "outputs": []
    },
    {
      "cell_type": "code",
      "metadata": {
        "id": "qKpFWpnzNdL-"
      },
      "source": [
        "data = pd.read_csv('/content/drive/MyDrive/Data/Loan-emi/train.csv')"
      ],
      "execution_count": null,
      "outputs": []
    },
    {
      "cell_type": "code",
      "metadata": {
        "colab": {
          "base_uri": "https://localhost:8080/"
        },
        "id": "wNNHDappN48P",
        "outputId": "60d6f3ae-9682-4a1b-f2f2-5d6c268423f7"
      },
      "source": [
        "data=data.fillna(method='ffill')\r\n",
        "X=data.drop(columns=['id','residence_area_type', 'premium'])\r\n",
        "y=data['target'].values\r\n",
        "y=y.reshape(-1,1)\r\n",
        "print(X.shape)"
      ],
      "execution_count": null,
      "outputs": [
        {
          "output_type": "stream",
          "text": [
            "(79853, 10)\n"
          ],
          "name": "stdout"
        }
      ]
    },
    {
      "cell_type": "code",
      "metadata": {
        "colab": {
          "base_uri": "https://localhost:8080/",
          "height": 545
        },
        "id": "2evJVrrAORep",
        "outputId": "45e8e357-23a9-45a4-d937-96aa4d4b80d5"
      },
      "source": [
        "import h2o\r\n",
        "h2o.init()"
      ],
      "execution_count": null,
      "outputs": [
        {
          "output_type": "stream",
          "text": [
            "Checking whether there is an H2O instance running at http://localhost:54321 ..... not found.\n",
            "Attempting to start a local H2O server...\n",
            "  Java Version: openjdk version \"11.0.9.1\" 2020-11-04; OpenJDK Runtime Environment (build 11.0.9.1+1-Ubuntu-0ubuntu1.18.04); OpenJDK 64-Bit Server VM (build 11.0.9.1+1-Ubuntu-0ubuntu1.18.04, mixed mode, sharing)\n",
            "  Starting server from /usr/local/lib/python3.6/dist-packages/h2o/backend/bin/h2o.jar\n",
            "  Ice root: /tmp/tmpay9ddov5\n",
            "  JVM stdout: /tmp/tmpay9ddov5/h2o_unknownUser_started_from_python.out\n",
            "  JVM stderr: /tmp/tmpay9ddov5/h2o_unknownUser_started_from_python.err\n",
            "  Server is running at http://127.0.0.1:54321\n",
            "Connecting to H2O server at http://127.0.0.1:54321 ... successful.\n"
          ],
          "name": "stdout"
        },
        {
          "output_type": "display_data",
          "data": {
            "text/html": [
              "<div style=\"overflow:auto\"><table style=\"width:50%\"><tr><td>H2O_cluster_uptime:</td>\n",
              "<td>03 secs</td></tr>\n",
              "<tr><td>H2O_cluster_timezone:</td>\n",
              "<td>Etc/UTC</td></tr>\n",
              "<tr><td>H2O_data_parsing_timezone:</td>\n",
              "<td>UTC</td></tr>\n",
              "<tr><td>H2O_cluster_version:</td>\n",
              "<td>3.32.0.2</td></tr>\n",
              "<tr><td>H2O_cluster_version_age:</td>\n",
              "<td>1 month and 10 days </td></tr>\n",
              "<tr><td>H2O_cluster_name:</td>\n",
              "<td>H2O_from_python_unknownUser_a67xbj</td></tr>\n",
              "<tr><td>H2O_cluster_total_nodes:</td>\n",
              "<td>1</td></tr>\n",
              "<tr><td>H2O_cluster_free_memory:</td>\n",
              "<td>3.180 Gb</td></tr>\n",
              "<tr><td>H2O_cluster_total_cores:</td>\n",
              "<td>2</td></tr>\n",
              "<tr><td>H2O_cluster_allowed_cores:</td>\n",
              "<td>2</td></tr>\n",
              "<tr><td>H2O_cluster_status:</td>\n",
              "<td>accepting new members, healthy</td></tr>\n",
              "<tr><td>H2O_connection_url:</td>\n",
              "<td>http://127.0.0.1:54321</td></tr>\n",
              "<tr><td>H2O_connection_proxy:</td>\n",
              "<td>{\"http\": null, \"https\": null}</td></tr>\n",
              "<tr><td>H2O_internal_security:</td>\n",
              "<td>False</td></tr>\n",
              "<tr><td>H2O_API_Extensions:</td>\n",
              "<td>Amazon S3, XGBoost, Algos, AutoML, Core V3, TargetEncoder, Core V4</td></tr>\n",
              "<tr><td>Python_version:</td>\n",
              "<td>3.6.9 final</td></tr></table></div>"
            ],
            "text/plain": [
              "--------------------------  ------------------------------------------------------------------\n",
              "H2O_cluster_uptime:         03 secs\n",
              "H2O_cluster_timezone:       Etc/UTC\n",
              "H2O_data_parsing_timezone:  UTC\n",
              "H2O_cluster_version:        3.32.0.2\n",
              "H2O_cluster_version_age:    1 month and 10 days\n",
              "H2O_cluster_name:           H2O_from_python_unknownUser_a67xbj\n",
              "H2O_cluster_total_nodes:    1\n",
              "H2O_cluster_free_memory:    3.180 Gb\n",
              "H2O_cluster_total_cores:    2\n",
              "H2O_cluster_allowed_cores:  2\n",
              "H2O_cluster_status:         accepting new members, healthy\n",
              "H2O_connection_url:         http://127.0.0.1:54321\n",
              "H2O_connection_proxy:       {\"http\": null, \"https\": null}\n",
              "H2O_internal_security:      False\n",
              "H2O_API_Extensions:         Amazon S3, XGBoost, Algos, AutoML, Core V3, TargetEncoder, Core V4\n",
              "Python_version:             3.6.9 final\n",
              "--------------------------  ------------------------------------------------------------------"
            ]
          },
          "metadata": {
            "tags": []
          }
        }
      ]
    },
    {
      "cell_type": "code",
      "metadata": {
        "colab": {
          "base_uri": "https://localhost:8080/",
          "height": 519
        },
        "id": "yFnKB60dO1yy",
        "outputId": "b5e532fb-7e4c-4bad-a086-f7ce4349a16e"
      },
      "source": [
        "h2o_df = h2o.H2OFrame(X)\r\n",
        "h2o_df.describe()"
      ],
      "execution_count": null,
      "outputs": [
        {
          "output_type": "stream",
          "text": [
            "Parse progress: |█████████████████████████████████████████████████████████| 100%\n",
            "Rows:79853\n",
            "Cols:10\n",
            "\n",
            "\n"
          ],
          "name": "stdout"
        },
        {
          "output_type": "display_data",
          "data": {
            "text/html": [
              "<table>\n",
              "<thead>\n",
              "<tr><th>       </th><th>perc_premium_paid_by_cash_credit  </th><th>age_in_days       </th><th>Income           </th><th>Count_3-6_months_late  </th><th>Count_6-12_months_late  </th><th>Count_more_than_12_months_late  </th><th>application_underwriting_score  </th><th>no_of_premiums_paid  </th><th>sourcing_channel  </th><th>target            </th></tr>\n",
              "</thead>\n",
              "<tbody>\n",
              "<tr><td>type   </td><td>real                              </td><td>int               </td><td>int              </td><td>int                    </td><td>int                     </td><td>int                             </td><td>real                            </td><td>int                  </td><td>enum              </td><td>int               </td></tr>\n",
              "<tr><td>mins   </td><td>0.0                               </td><td>7670.0            </td><td>24030.0          </td><td>0.0                    </td><td>0.0                     </td><td>0.0                             </td><td>91.9                            </td><td>2.0                  </td><td>                  </td><td>0.0               </td></tr>\n",
              "<tr><td>mean   </td><td>0.3142877412244997                </td><td>18846.69690556412 </td><td>208847.1711770389</td><td>0.24866943007776968    </td><td>0.07816863486656722     </td><td>0.059985222846981476            </td><td>99.06606514470391               </td><td>10.863887393084937   </td><td>                  </td><td>0.937409990858202 </td></tr>\n",
              "<tr><td>maxs   </td><td>1.0                               </td><td>37602.0           </td><td>90262600.0       </td><td>13.0                   </td><td>17.0                    </td><td>11.0                            </td><td>99.89                           </td><td>60.0                 </td><td>                  </td><td>1.0               </td></tr>\n",
              "<tr><td>sigma  </td><td>0.3349145654297195                </td><td>5208.7191357501915</td><td>496582.597257461 </td><td>0.6913746720270398     </td><td>0.4363807791432687      </td><td>0.31195098108364                </td><td>0.7413720451002273              </td><td>5.17068723797832     </td><td>                  </td><td>0.2422255863095241</td></tr>\n",
              "<tr><td>zeros  </td><td>5723                              </td><td>0                 </td><td>0                </td><td>66882                  </td><td>75924                   </td><td>76132                           </td><td>0                               </td><td>0                    </td><td>                  </td><td>4998              </td></tr>\n",
              "<tr><td>missing</td><td>0                                 </td><td>0                 </td><td>0                </td><td>0                      </td><td>0                       </td><td>0                               </td><td>0                               </td><td>0                    </td><td>0                 </td><td>0                 </td></tr>\n",
              "<tr><td>0      </td><td>0.429                             </td><td>12058.0           </td><td>355060.0         </td><td>0.0                    </td><td>0.0                     </td><td>0.0                             </td><td>99.02                           </td><td>13.0                 </td><td>C                 </td><td>1.0               </td></tr>\n",
              "<tr><td>1      </td><td>0.01                              </td><td>21546.0           </td><td>315150.0         </td><td>0.0                    </td><td>0.0                     </td><td>0.0                             </td><td>99.89                           </td><td>21.0                 </td><td>A                 </td><td>1.0               </td></tr>\n",
              "<tr><td>2      </td><td>0.917                             </td><td>17531.0           </td><td>84140.0          </td><td>2.0                    </td><td>3.0                     </td><td>1.0                             </td><td>98.69                           </td><td>7.0                  </td><td>C                 </td><td>0.0               </td></tr>\n",
              "<tr><td>3      </td><td>0.049                             </td><td>15341.0           </td><td>250510.0         </td><td>0.0                    </td><td>0.0                     </td><td>0.0                             </td><td>99.57                           </td><td>9.0                  </td><td>A                 </td><td>1.0               </td></tr>\n",
              "<tr><td>4      </td><td>0.052000000000000005              </td><td>31400.0           </td><td>198680.0         </td><td>0.0                    </td><td>0.0                     </td><td>0.0                             </td><td>99.87                           </td><td>12.0                 </td><td>B                 </td><td>1.0               </td></tr>\n",
              "<tr><td>5      </td><td>0.54                              </td><td>17527.0           </td><td>282080.0         </td><td>2.0                    </td><td>0.0                     </td><td>0.0                             </td><td>99.18                           </td><td>9.0                  </td><td>B                 </td><td>1.0               </td></tr>\n",
              "<tr><td>6      </td><td>1.0                               </td><td>24829.0           </td><td>118400.0         </td><td>0.0                    </td><td>0.0                     </td><td>0.0                             </td><td>99.05                           </td><td>11.0                 </td><td>B                 </td><td>1.0               </td></tr>\n",
              "<tr><td>7      </td><td>1.0                               </td><td>21911.0           </td><td>180240.0         </td><td>1.0                    </td><td>6.0                     </td><td>4.0                             </td><td>99.33                           </td><td>3.0                  </td><td>A                 </td><td>0.0               </td></tr>\n",
              "<tr><td>8      </td><td>0.621                             </td><td>9868.0            </td><td>92520.0          </td><td>0.0                    </td><td>0.0                     </td><td>0.0                             </td><td>99.58                           </td><td>4.0                  </td><td>A                 </td><td>1.0               </td></tr>\n",
              "<tr><td>9      </td><td>0.908                             </td><td>23008.0           </td><td>107180.0         </td><td>2.0                    </td><td>0.0                     </td><td>0.0                             </td><td>98.91                           </td><td>11.0                 </td><td>A                 </td><td>0.0               </td></tr>\n",
              "</tbody>\n",
              "</table>"
            ]
          },
          "metadata": {
            "tags": []
          }
        }
      ]
    },
    {
      "cell_type": "code",
      "metadata": {
        "id": "bbScvVoQORpJ"
      },
      "source": [
        "train, test = h2o_df.split_frame(ratios=[.8])\r\n",
        "x = train.columns\r\n",
        "y1 = 'target'\r\n",
        "x.remove(y1)"
      ],
      "execution_count": null,
      "outputs": []
    },
    {
      "cell_type": "code",
      "metadata": {
        "colab": {
          "base_uri": "https://localhost:8080/"
        },
        "id": "1-XB56hUORxm",
        "outputId": "b7d162c5-77de-4896-bef1-520d756fba96"
      },
      "source": [
        "from h2o.automl import H2OAutoML\r\n",
        "aml = H2OAutoML(max_runtime_secs = 600, \r\n",
        "                # exclude_algos =['DeepLearning'], \r\n",
        "                seed = 1, \r\n",
        "                # stopping_metric ='logloss', \r\n",
        "                # sort_metric ='logloss', \r\n",
        "                balance_classes = False, \r\n",
        "                project_name =\"Prject_1\"\r\n",
        ") \r\n",
        "# train model and record time % time  \r\n",
        "aml.train(x = x, y = y1, training_frame = train) "
      ],
      "execution_count": null,
      "outputs": [
        {
          "output_type": "stream",
          "text": [
            "AutoML progress: |████████████████████████████████████████████████████████| 100%\n"
          ],
          "name": "stdout"
        }
      ]
    },
    {
      "cell_type": "code",
      "metadata": {
        "colab": {
          "base_uri": "https://localhost:8080/",
          "height": 628
        },
        "id": "y72TAbNFOR8X",
        "outputId": "c20808fc-c385-46e0-91bd-8585078ec05b"
      },
      "source": [
        "lb =aml.leaderboard\r\n",
        "lb.head(rows = lb.nrows)"
      ],
      "execution_count": null,
      "outputs": [
        {
          "output_type": "display_data",
          "data": {
            "text/html": [
              "<table>\n",
              "<thead>\n",
              "<tr><th>model_id                                           </th><th style=\"text-align: right;\">  mean_residual_deviance</th><th style=\"text-align: right;\">    rmse</th><th style=\"text-align: right;\">      mse</th><th style=\"text-align: right;\">      mae</th><th style=\"text-align: right;\">     rmsle</th></tr>\n",
              "</thead>\n",
              "<tbody>\n",
              "<tr><td>StackedEnsemble_AllModels_AutoML_20201228_123305   </td><td style=\"text-align: right;\">               0.0484752</td><td style=\"text-align: right;\">0.220171</td><td style=\"text-align: right;\">0.0484752</td><td style=\"text-align: right;\">0.0968152</td><td style=\"text-align: right;\">  0.153479</td></tr>\n",
              "<tr><td>StackedEnsemble_BestOfFamily_AutoML_20201228_123305</td><td style=\"text-align: right;\">               0.0484782</td><td style=\"text-align: right;\">0.220178</td><td style=\"text-align: right;\">0.0484782</td><td style=\"text-align: right;\">0.0968358</td><td style=\"text-align: right;\">  0.153489</td></tr>\n",
              "<tr><td>GBM_grid__1_AutoML_20201228_123305_model_1         </td><td style=\"text-align: right;\">               0.0485131</td><td style=\"text-align: right;\">0.220257</td><td style=\"text-align: right;\">0.0485131</td><td style=\"text-align: right;\">0.0972453</td><td style=\"text-align: right;\">  0.153679</td></tr>\n",
              "<tr><td>GBM_grid__1_AutoML_20201228_123305_model_3         </td><td style=\"text-align: right;\">               0.0485453</td><td style=\"text-align: right;\">0.22033 </td><td style=\"text-align: right;\">0.0485453</td><td style=\"text-align: right;\">0.0968174</td><td style=\"text-align: right;\">  0.153521</td></tr>\n",
              "<tr><td>XGBoost_grid__1_AutoML_20201228_123305_model_5     </td><td style=\"text-align: right;\">               0.0486804</td><td style=\"text-align: right;\">0.220636</td><td style=\"text-align: right;\">0.0486804</td><td style=\"text-align: right;\">0.100873 </td><td style=\"text-align: right;\">  0.153613</td></tr>\n",
              "<tr><td>GBM_5_AutoML_20201228_123305                       </td><td style=\"text-align: right;\">               0.048819 </td><td style=\"text-align: right;\">0.22095 </td><td style=\"text-align: right;\">0.048819 </td><td style=\"text-align: right;\">0.0997603</td><td style=\"text-align: right;\">  0.154568</td></tr>\n",
              "<tr><td>GBM_2_AutoML_20201228_123305                       </td><td style=\"text-align: right;\">               0.04886  </td><td style=\"text-align: right;\">0.221043</td><td style=\"text-align: right;\">0.04886  </td><td style=\"text-align: right;\">0.0974128</td><td style=\"text-align: right;\">  0.154155</td></tr>\n",
              "<tr><td>GBM_1_AutoML_20201228_123305                       </td><td style=\"text-align: right;\">               0.0489129</td><td style=\"text-align: right;\">0.221163</td><td style=\"text-align: right;\">0.0489129</td><td style=\"text-align: right;\">0.0987587</td><td style=\"text-align: right;\">  0.154467</td></tr>\n",
              "<tr><td>GBM_3_AutoML_20201228_123305                       </td><td style=\"text-align: right;\">               0.0491283</td><td style=\"text-align: right;\">0.221649</td><td style=\"text-align: right;\">0.0491283</td><td style=\"text-align: right;\">0.0978427</td><td style=\"text-align: right;\">  0.154484</td></tr>\n",
              "<tr><td>DeepLearning_grid__1_AutoML_20201228_123305_model_1</td><td style=\"text-align: right;\">               0.0491677</td><td style=\"text-align: right;\">0.221738</td><td style=\"text-align: right;\">0.0491677</td><td style=\"text-align: right;\">0.0904641</td><td style=\"text-align: right;\">  0.154927</td></tr>\n",
              "<tr><td>GBM_grid__1_AutoML_20201228_123305_model_2         </td><td style=\"text-align: right;\">               0.049224 </td><td style=\"text-align: right;\">0.221865</td><td style=\"text-align: right;\">0.049224 </td><td style=\"text-align: right;\">0.0970752</td><td style=\"text-align: right;\">  0.154347</td></tr>\n",
              "<tr><td>XGBoost_3_AutoML_20201228_123305                   </td><td style=\"text-align: right;\">               0.0492686</td><td style=\"text-align: right;\">0.221965</td><td style=\"text-align: right;\">0.0492686</td><td style=\"text-align: right;\">0.0966384</td><td style=\"text-align: right;\">  0.154334</td></tr>\n",
              "<tr><td>GLM_1_AutoML_20201228_123305                       </td><td style=\"text-align: right;\">               0.0493085</td><td style=\"text-align: right;\">0.222055</td><td style=\"text-align: right;\">0.0493085</td><td style=\"text-align: right;\">0.100727 </td><td style=\"text-align: right;\">  0.155655</td></tr>\n",
              "<tr><td>GBM_4_AutoML_20201228_123305                       </td><td style=\"text-align: right;\">               0.0495222</td><td style=\"text-align: right;\">0.222536</td><td style=\"text-align: right;\">0.0495222</td><td style=\"text-align: right;\">0.0983051</td><td style=\"text-align: right;\">  0.154959</td></tr>\n",
              "<tr><td>DeepLearning_1_AutoML_20201228_123305              </td><td style=\"text-align: right;\">               0.049546 </td><td style=\"text-align: right;\">0.222589</td><td style=\"text-align: right;\">0.049546 </td><td style=\"text-align: right;\">0.0998966</td><td style=\"text-align: right;\">  0.155223</td></tr>\n",
              "<tr><td>GBM_grid__1_AutoML_20201228_123305_model_4         </td><td style=\"text-align: right;\">               0.0495847</td><td style=\"text-align: right;\">0.222676</td><td style=\"text-align: right;\">0.0495847</td><td style=\"text-align: right;\">0.097578 </td><td style=\"text-align: right;\">  0.154459</td></tr>\n",
              "<tr><td>DeepLearning_grid__3_AutoML_20201228_123305_model_1</td><td style=\"text-align: right;\">               0.0503836</td><td style=\"text-align: right;\">0.224463</td><td style=\"text-align: right;\">0.0503836</td><td style=\"text-align: right;\">0.122599 </td><td style=\"text-align: right;\">  0.155904</td></tr>\n",
              "<tr><td>GBM_grid__1_AutoML_20201228_123305_model_5         </td><td style=\"text-align: right;\">               0.0505079</td><td style=\"text-align: right;\">0.22474 </td><td style=\"text-align: right;\">0.0505079</td><td style=\"text-align: right;\">0.105133 </td><td style=\"text-align: right;\">  0.157818</td></tr>\n",
              "<tr><td>DeepLearning_grid__2_AutoML_20201228_123305_model_1</td><td style=\"text-align: right;\">               0.0511477</td><td style=\"text-align: right;\">0.226159</td><td style=\"text-align: right;\">0.0511477</td><td style=\"text-align: right;\">0.130682 </td><td style=\"text-align: right;\">  0.155225</td></tr>\n",
              "<tr><td>DeepLearning_grid__1_AutoML_20201228_123305_model_2</td><td style=\"text-align: right;\">               0.0517508</td><td style=\"text-align: right;\">0.227488</td><td style=\"text-align: right;\">0.0517508</td><td style=\"text-align: right;\">0.104144 </td><td style=\"text-align: right;\">nan       </td></tr>\n",
              "<tr><td>XGBoost_1_AutoML_20201228_123305                   </td><td style=\"text-align: right;\">               0.0526363</td><td style=\"text-align: right;\">0.229426</td><td style=\"text-align: right;\">0.0526363</td><td style=\"text-align: right;\">0.0993513</td><td style=\"text-align: right;\">  0.158112</td></tr>\n",
              "<tr><td>XRT_1_AutoML_20201228_123305                       </td><td style=\"text-align: right;\">               0.0529018</td><td style=\"text-align: right;\">0.230004</td><td style=\"text-align: right;\">0.0529018</td><td style=\"text-align: right;\">0.101084 </td><td style=\"text-align: right;\">  0.157752</td></tr>\n",
              "<tr><td>XGBoost_2_AutoML_20201228_123305                   </td><td style=\"text-align: right;\">               0.0542323</td><td style=\"text-align: right;\">0.232878</td><td style=\"text-align: right;\">0.0542323</td><td style=\"text-align: right;\">0.108406 </td><td style=\"text-align: right;\">  0.159325</td></tr>\n",
              "<tr><td>DRF_1_AutoML_20201228_123305                       </td><td style=\"text-align: right;\">               0.0550849</td><td style=\"text-align: right;\">0.234702</td><td style=\"text-align: right;\">0.0550849</td><td style=\"text-align: right;\">0.101275 </td><td style=\"text-align: right;\">  0.160027</td></tr>\n",
              "<tr><td>XGBoost_grid__1_AutoML_20201228_123305_model_2     </td><td style=\"text-align: right;\">               0.0554483</td><td style=\"text-align: right;\">0.235475</td><td style=\"text-align: right;\">0.0554483</td><td style=\"text-align: right;\">0.102484 </td><td style=\"text-align: right;\">  0.161335</td></tr>\n",
              "<tr><td>XGBoost_grid__1_AutoML_20201228_123305_model_1     </td><td style=\"text-align: right;\">               0.0566631</td><td style=\"text-align: right;\">0.23804 </td><td style=\"text-align: right;\">0.0566631</td><td style=\"text-align: right;\">0.101342 </td><td style=\"text-align: right;\">  0.162811</td></tr>\n",
              "<tr><td>XGBoost_grid__1_AutoML_20201228_123305_model_3     </td><td style=\"text-align: right;\">               0.0588568</td><td style=\"text-align: right;\">0.242604</td><td style=\"text-align: right;\">0.0588568</td><td style=\"text-align: right;\">0.110776 </td><td style=\"text-align: right;\">  0.164719</td></tr>\n",
              "<tr><td>XGBoost_grid__1_AutoML_20201228_123305_model_4     </td><td style=\"text-align: right;\">               0.0639415</td><td style=\"text-align: right;\">0.252867</td><td style=\"text-align: right;\">0.0639415</td><td style=\"text-align: right;\">0.116844 </td><td style=\"text-align: right;\">  0.170247</td></tr>\n",
              "</tbody>\n",
              "</table>"
            ]
          },
          "metadata": {
            "tags": []
          }
        },
        {
          "output_type": "execute_result",
          "data": {
            "text/plain": [
              ""
            ]
          },
          "metadata": {
            "tags": []
          },
          "execution_count": 23
        }
      ]
    },
    {
      "cell_type": "code",
      "metadata": {
        "colab": {
          "base_uri": "https://localhost:8080/"
        },
        "id": "oxjn7FHAOSGK",
        "outputId": "bbb1d65f-d678-4f27-cfd4-3f22e270ad2d"
      },
      "source": [
        "se = aml.leader\r\n",
        "metalearner = h2o.get_model(se.metalearner()['name'])\r\n",
        "metalearner.varimp()"
      ],
      "execution_count": null,
      "outputs": [
        {
          "output_type": "stream",
          "text": [
            "/usr/local/lib/python3.6/dist-packages/h2o/estimators/stackedensemble.py:804: H2ODeprecationWarning: The usage of stacked_ensemble.metalearner()['name'] will be deprecated. Metalearner now returns the metalearner object. If you need to get the 'name' please use stacked_ensemble.metalearner().model_id\n",
            "  H2ODeprecationWarning\n"
          ],
          "name": "stderr"
        },
        {
          "output_type": "execute_result",
          "data": {
            "text/plain": [
              "[('GBM_grid__1_AutoML_20201228_123305_model_1',\n",
              "  0.08260080218315125,\n",
              "  1.0,\n",
              "  0.8276786265479614),\n",
              " ('GBM_grid__1_AutoML_20201228_123305_model_3',\n",
              "  0.01085213478654623,\n",
              "  0.13138050115401698,\n",
              "  0.10874083275033963),\n",
              " ('XGBoost_grid__1_AutoML_20201228_123305_model_1',\n",
              "  0.0019682892598211765,\n",
              "  0.023828936375906825,\n",
              "  0.01972270133170932),\n",
              " ('DeepLearning_grid__1_AutoML_20201228_123305_model_1',\n",
              "  0.0014064181596040726,\n",
              "  0.01702668887507428,\n",
              "  0.014092626462780934),\n",
              " ('GBM_grid__1_AutoML_20201228_123305_model_4',\n",
              "  0.0010071006836369634,\n",
              "  0.012192383814916387,\n",
              "  0.010091375490275589),\n",
              " ('DRF_1_AutoML_20201228_123305',\n",
              "  0.0009980294853448868,\n",
              "  0.012082564078880857,\n",
              "  0.010000480041985843),\n",
              " ('DeepLearning_grid__1_AutoML_20201228_123305_model_2',\n",
              "  0.0008248038939200342,\n",
              "  0.009985422321821907,\n",
              "  0.008264720632826912),\n",
              " ('XGBoost_grid__1_AutoML_20201228_123305_model_4',\n",
              "  0.00010634753562044352,\n",
              "  0.00128748792759468,\n",
              "  0.001065626239608646),\n",
              " ('GBM_5_AutoML_20201228_123305',\n",
              "  3.302285767858848e-05,\n",
              "  0.0003997885832315127,\n",
              "  0.00033089646547861384),\n",
              " ('XGBoost_grid__1_AutoML_20201228_123305_model_2',\n",
              "  9.89430191111751e-07,\n",
              "  1.1978457411562197e-05,\n",
              "  9.914313178565048e-06),\n",
              " ('XGBoost_3_AutoML_20201228_123305',\n",
              "  2.195283883565935e-07,\n",
              "  2.6577028618902745e-06,\n",
              "  2.1997238545019287e-06),\n",
              " ('XGBoost_grid__1_AutoML_20201228_123305_model_5', 0.0, 0.0, 0.0),\n",
              " ('GBM_2_AutoML_20201228_123305', 0.0, 0.0, 0.0),\n",
              " ('GBM_1_AutoML_20201228_123305', 0.0, 0.0, 0.0),\n",
              " ('GBM_3_AutoML_20201228_123305', 0.0, 0.0, 0.0),\n",
              " ('GBM_grid__1_AutoML_20201228_123305_model_2', 0.0, 0.0, 0.0),\n",
              " ('GLM_1_AutoML_20201228_123305', 0.0, 0.0, 0.0),\n",
              " ('GBM_4_AutoML_20201228_123305', 0.0, 0.0, 0.0),\n",
              " ('DeepLearning_1_AutoML_20201228_123305', 0.0, 0.0, 0.0),\n",
              " ('DeepLearning_grid__3_AutoML_20201228_123305_model_1', 0.0, 0.0, 0.0),\n",
              " ('GBM_grid__1_AutoML_20201228_123305_model_5', 0.0, 0.0, 0.0),\n",
              " ('DeepLearning_grid__2_AutoML_20201228_123305_model_1', 0.0, 0.0, 0.0),\n",
              " ('XGBoost_1_AutoML_20201228_123305', 0.0, 0.0, 0.0),\n",
              " ('XRT_1_AutoML_20201228_123305', 0.0, 0.0, 0.0),\n",
              " ('XGBoost_2_AutoML_20201228_123305', 0.0, 0.0, 0.0),\n",
              " ('XGBoost_grid__1_AutoML_20201228_123305_model_3', 0.0, 0.0, 0.0)]"
            ]
          },
          "metadata": {
            "tags": []
          },
          "execution_count": 25
        }
      ]
    },
    {
      "cell_type": "code",
      "metadata": {
        "colab": {
          "base_uri": "https://localhost:8080/"
        },
        "id": "3onQi1H8OSPk",
        "outputId": "7e6ba383-60e9-4998-ca82-c657c4822f98"
      },
      "source": [
        "model = h2o.get_model('GBM_grid__1_AutoML_20201228_123305_model_1') \r\n",
        "model.model_performance(test)"
      ],
      "execution_count": null,
      "outputs": [
        {
          "output_type": "stream",
          "text": [
            "\n",
            "ModelMetricsRegression: gbm\n",
            "** Reported on test data. **\n",
            "\n",
            "MSE: 0.049453105140514035\n",
            "RMSE: 0.22238054128118773\n",
            "MAE: 0.0988940461536927\n",
            "RMSLE: 0.15574210942848413\n",
            "Mean Residual Deviance: 0.049453105140514035\n"
          ],
          "name": "stdout"
        },
        {
          "output_type": "execute_result",
          "data": {
            "text/plain": [
              ""
            ]
          },
          "metadata": {
            "tags": []
          },
          "execution_count": 27
        }
      ]
    },
    {
      "cell_type": "code",
      "metadata": {
        "colab": {
          "base_uri": "https://localhost:8080/",
          "height": 590
        },
        "id": "HERZfqpfOSYn",
        "outputId": "642fe009-b6d0-4b7e-9a6c-e3deebe87f1d"
      },
      "source": [
        "model.varimp_plot(num_of_features=9)"
      ],
      "execution_count": null,
      "outputs": [
        {
          "output_type": "display_data",
          "data": {
            "image/png": "[encoded data removed]",
            "text/plain": [
              "<Figure size 1008x720 with 1 Axes>"
            ]
          },
          "metadata": {
            "tags": [],
            "needs_background": "light"
          }
        }
      ]
    },
    {
      "cell_type": "code",
      "metadata": {
        "colab": {
          "base_uri": "https://localhost:8080/",
          "height": 270
        },
        "id": "slnQ0uTEdrC9",
        "outputId": "55f86ec4-d9f3-4963-e440-34c32770923d"
      },
      "source": [
        "lb = h2o.automl.get_leaderboard(aml, extra_columns = 'ALL')\r\n",
        "lb"
      ],
      "execution_count": null,
      "outputs": [
        {
          "output_type": "display_data",
          "data": {
            "text/html": [
              "<table>\n",
              "<thead>\n",
              "<tr><th>model_id                                           </th><th style=\"text-align: right;\">  mean_residual_deviance</th><th style=\"text-align: right;\">    rmse</th><th style=\"text-align: right;\">      mse</th><th style=\"text-align: right;\">      mae</th><th style=\"text-align: right;\">   rmsle</th><th style=\"text-align: right;\">  training_time_ms</th><th style=\"text-align: right;\">  predict_time_per_row_ms</th></tr>\n",
              "</thead>\n",
              "<tbody>\n",
              "<tr><td>StackedEnsemble_AllModels_AutoML_20201228_123305   </td><td style=\"text-align: right;\">               0.0484752</td><td style=\"text-align: right;\">0.220171</td><td style=\"text-align: right;\">0.0484752</td><td style=\"text-align: right;\">0.0968152</td><td style=\"text-align: right;\">0.153479</td><td style=\"text-align: right;\">              1995</td><td style=\"text-align: right;\">                 0.066023</td></tr>\n",
              "<tr><td>StackedEnsemble_BestOfFamily_AutoML_20201228_123305</td><td style=\"text-align: right;\">               0.0484782</td><td style=\"text-align: right;\">0.220178</td><td style=\"text-align: right;\">0.0484782</td><td style=\"text-align: right;\">0.0968358</td><td style=\"text-align: right;\">0.153489</td><td style=\"text-align: right;\">               956</td><td style=\"text-align: right;\">                 0.015441</td></tr>\n",
              "<tr><td>GBM_grid__1_AutoML_20201228_123305_model_1         </td><td style=\"text-align: right;\">               0.0485131</td><td style=\"text-align: right;\">0.220257</td><td style=\"text-align: right;\">0.0485131</td><td style=\"text-align: right;\">0.0972453</td><td style=\"text-align: right;\">0.153679</td><td style=\"text-align: right;\">              1905</td><td style=\"text-align: right;\">                 0.00949 </td></tr>\n",
              "<tr><td>GBM_grid__1_AutoML_20201228_123305_model_3         </td><td style=\"text-align: right;\">               0.0485453</td><td style=\"text-align: right;\">0.22033 </td><td style=\"text-align: right;\">0.0485453</td><td style=\"text-align: right;\">0.0968174</td><td style=\"text-align: right;\">0.153521</td><td style=\"text-align: right;\">              3463</td><td style=\"text-align: right;\">                 0.011327</td></tr>\n",
              "<tr><td>XGBoost_grid__1_AutoML_20201228_123305_model_5     </td><td style=\"text-align: right;\">               0.0486804</td><td style=\"text-align: right;\">0.220636</td><td style=\"text-align: right;\">0.0486804</td><td style=\"text-align: right;\">0.100873 </td><td style=\"text-align: right;\">0.153613</td><td style=\"text-align: right;\">               752</td><td style=\"text-align: right;\">                 0.001321</td></tr>\n",
              "<tr><td>GBM_5_AutoML_20201228_123305                       </td><td style=\"text-align: right;\">               0.048819 </td><td style=\"text-align: right;\">0.22095 </td><td style=\"text-align: right;\">0.048819 </td><td style=\"text-align: right;\">0.0997603</td><td style=\"text-align: right;\">0.154568</td><td style=\"text-align: right;\">              2373</td><td style=\"text-align: right;\">                 0.008962</td></tr>\n",
              "<tr><td>GBM_2_AutoML_20201228_123305                       </td><td style=\"text-align: right;\">               0.04886  </td><td style=\"text-align: right;\">0.221043</td><td style=\"text-align: right;\">0.04886  </td><td style=\"text-align: right;\">0.0974128</td><td style=\"text-align: right;\">0.154155</td><td style=\"text-align: right;\">              2110</td><td style=\"text-align: right;\">                 0.008174</td></tr>\n",
              "<tr><td>GBM_1_AutoML_20201228_123305                       </td><td style=\"text-align: right;\">               0.0489129</td><td style=\"text-align: right;\">0.221163</td><td style=\"text-align: right;\">0.0489129</td><td style=\"text-align: right;\">0.0987587</td><td style=\"text-align: right;\">0.154467</td><td style=\"text-align: right;\">              1607</td><td style=\"text-align: right;\">                 0.006993</td></tr>\n",
              "<tr><td>GBM_3_AutoML_20201228_123305                       </td><td style=\"text-align: right;\">               0.0491283</td><td style=\"text-align: right;\">0.221649</td><td style=\"text-align: right;\">0.0491283</td><td style=\"text-align: right;\">0.0978427</td><td style=\"text-align: right;\">0.154484</td><td style=\"text-align: right;\">              1948</td><td style=\"text-align: right;\">                 0.008619</td></tr>\n",
              "<tr><td>DeepLearning_grid__1_AutoML_20201228_123305_model_1</td><td style=\"text-align: right;\">               0.0491677</td><td style=\"text-align: right;\">0.221738</td><td style=\"text-align: right;\">0.0491677</td><td style=\"text-align: right;\">0.0904641</td><td style=\"text-align: right;\">0.154927</td><td style=\"text-align: right;\">              2408</td><td style=\"text-align: right;\">                 0.00375 </td></tr>\n",
              "</tbody>\n",
              "</table>"
            ]
          },
          "metadata": {
            "tags": []
          }
        },
        {
          "output_type": "execute_result",
          "data": {
            "text/plain": [
              ""
            ]
          },
          "metadata": {
            "tags": []
          },
          "execution_count": 34
        }
      ]
    },
    {
      "cell_type": "code",
      "metadata": {
        "id": "Tyxk2oXLOSh_"
      },
      "source": [
        "model_path = h2o.save_model(model = model, path ='/content/drive/MyDrive/Model', force = True)"
      ],
      "execution_count": null,
      "outputs": []
    },
    {
      "cell_type": "code",
      "metadata": {
        "id": "EEaJ_5B7OS0d"
      },
      "source": [
        "saved_model = h2o.load_model('/content/drive/MyDrive/Model/GBM_grid__1_AutoML_20201228_123305_model_1')"
      ],
      "execution_count": null,
      "outputs": []
    },
    {
      "cell_type": "code",
      "metadata": {
        "colab": {
          "base_uri": "https://localhost:8080/"
        },
        "id": "rzmawzTSOS87",
        "outputId": "ce7429ef-8525-4ea3-a47e-87154bbeba4d"
      },
      "source": [
        "preds = saved_model.predict(test)"
      ],
      "execution_count": null,
      "outputs": [
        {
          "output_type": "stream",
          "text": [
            "gbm prediction progress: |████████████████████████████████████████████████| 100%\n"
          ],
          "name": "stdout"
        }
      ]
    },
    {
      "cell_type": "code",
      "metadata": {
        "colab": {
          "base_uri": "https://localhost:8080/",
          "height": 250
        },
        "id": "STj9xmlOOTFy",
        "outputId": "78b2a59a-b087-4a72-82f7-f705f14d5cf6"
      },
      "source": [
        "preds"
      ],
      "execution_count": null,
      "outputs": [
        {
          "output_type": "display_data",
          "data": {
            "text/html": [
              "<table>\n",
              "<thead>\n",
              "<tr><th style=\"text-align: right;\">  predict</th></tr>\n",
              "</thead>\n",
              "<tbody>\n",
              "<tr><td style=\"text-align: right;\"> 0.988973</td></tr>\n",
              "<tr><td style=\"text-align: right;\"> 0.933   </td></tr>\n",
              "<tr><td style=\"text-align: right;\"> 0.98336 </td></tr>\n",
              "<tr><td style=\"text-align: right;\"> 0.988973</td></tr>\n",
              "<tr><td style=\"text-align: right;\"> 0.95858 </td></tr>\n",
              "<tr><td style=\"text-align: right;\"> 0.984617</td></tr>\n",
              "<tr><td style=\"text-align: right;\"> 0.992721</td></tr>\n",
              "<tr><td style=\"text-align: right;\"> 0.972403</td></tr>\n",
              "<tr><td style=\"text-align: right;\"> 0.962802</td></tr>\n",
              "<tr><td style=\"text-align: right;\"> 0.990023</td></tr>\n",
              "</tbody>\n",
              "</table>"
            ]
          },
          "metadata": {
            "tags": []
          }
        },
        {
          "output_type": "execute_result",
          "data": {
            "text/plain": [
              ""
            ]
          },
          "metadata": {
            "tags": []
          },
          "execution_count": 35
        }
      ]
    }
  ]
}